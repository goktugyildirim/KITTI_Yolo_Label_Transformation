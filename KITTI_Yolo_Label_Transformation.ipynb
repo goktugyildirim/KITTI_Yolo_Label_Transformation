{
 "cells": [
  {
   "cell_type": "code",
   "execution_count": 62,
   "metadata": {},
   "outputs": [
    {
     "name": "stdout",
     "output_type": "stream",
     "text": [
      "Label transformation is done!\n"
     ]
    }
   ],
   "source": [
    "import pathlib\n",
    "import glob\n",
    "import sys\n",
    "import matplotlib.pyplot as plt\n",
    "import matplotlib.image as mpimg\n",
    "import numpy as np\n",
    "\n",
    "def listToString(s):  \n",
    "    str1 = \"\"  \n",
    "    for ele in s:  \n",
    "        str1 += ele + \" \"\n",
    "    return str1  \n",
    "\n",
    "label_path = \"/home/goktug/Downloads/KITTI Dataset/dataset/training/labels/\"\n",
    "label_txt_files = glob.glob(label_path+\"*.txt\")\n",
    "image_path = \"/home/goktug/Downloads/KITTI Dataset/dataset/training/images/\"\n",
    "images = glob.glob(image_path+\"*.png\")\n",
    "\n",
    "classes = {\"DontCare\":0,\n",
    "          \"Pedestrian\":1,\n",
    "          \"Van\":2,\n",
    "          \"Misc\":3,\n",
    "          \"Cyclist\":4,\n",
    "          \"Car\":5,\n",
    "          \"Tram\":6,\n",
    "          \"Truck\":7,\n",
    "          \"Person_sitting\":8}\n",
    "\n",
    "for image_path in(images):\n",
    "    \n",
    "    image_id = image_path.split(\"/\")[-1].split(\".\")[0]\n",
    "    img = mpimg.imread(image_path)\n",
    "    height = float(img.shape[0])\n",
    "    width = float(img.shape[1])\n",
    "    \n",
    "    for txt_path in (label_txt_files):\n",
    "        txt_id = txt_path.split(\"/\")[-1].split(\".\")[0]\n",
    "        \n",
    "        if(image_id == txt_id):\n",
    "            #print(txt_id+\".txt\")\n",
    "            \n",
    "            #Open new txt file.\n",
    "            new_file_path = \"yolo_labels/\"+txt_id+\".txt\"\n",
    "            new_txt_file = open(new_file_path, 'a')\n",
    "            \n",
    "            with open(txt_path) as f:\n",
    "                lines = f.readlines()\n",
    "                for line in lines:\n",
    "                    new_line = []\n",
    "                    line = line.split()\n",
    "                    class_name = line[0]\n",
    "                    left = float(line[4])\n",
    "                    top = float(line[5])\n",
    "                    right = float(line[6])\n",
    "                    bottom = float(line[7])\n",
    "\n",
    "                    c = bottom-top\n",
    "                    d = right-left\n",
    "                    a = left+(d/2)\n",
    "                    b = top+(c/2)\n",
    "                    \n",
    "                    class_id = classes[class_name]\n",
    "                    yolo_bbox_value_1 = a/width\n",
    "                    yolo_bbox_value_2 = b/height\n",
    "                    yolo_bbox_value_3 = d/width\n",
    "                    yolo_bbox_value_4 = c/height\n",
    "                    \n",
    "                    yolo_bbox_value_1 = \"{:.6f}\".format(yolo_bbox_value_1)\n",
    "                    yolo_bbox_value_2 = \"{:.6f}\".format(yolo_bbox_value_2)\n",
    "                    yolo_bbox_value_3 = \"{:.6f}\".format(yolo_bbox_value_3)\n",
    "                    yolo_bbox_value_4 = \"{:.6f}\".format(yolo_bbox_value_4)\n",
    "                    \n",
    "                    new_line.append(str(class_id))\n",
    "                    new_line.append(str(yolo_bbox_value_1))\n",
    "                    new_line.append(str(yolo_bbox_value_2))\n",
    "                    new_line.append(str(yolo_bbox_value_3))\n",
    "                    new_line.append(str(yolo_bbox_value_4))\n",
    "                    new_line = listToString(new_line)\n",
    "                    \n",
    "                    #print(new_line)\n",
    "                    new_txt_file.write(new_line)\n",
    "                    new_txt_file.write(\"\\n\")\n",
    "\n",
    "            #print(\"***************************\")\n",
    "\n",
    "print(\"Label transformation is done!\")"
   ]
  },
  {
   "cell_type": "code",
   "execution_count": null,
   "metadata": {},
   "outputs": [],
   "source": []
  },
  {
   "cell_type": "code",
   "execution_count": null,
   "metadata": {},
   "outputs": [],
   "source": [
    "\n"
   ]
  },
  {
   "cell_type": "code",
   "execution_count": null,
   "metadata": {},
   "outputs": [],
   "source": []
  }
 ],
 "metadata": {
  "kernelspec": {
   "display_name": "Python 3",
   "language": "python",
   "name": "python3"
  },
  "language_info": {
   "codemirror_mode": {
    "name": "ipython",
    "version": 3
   },
   "file_extension": ".py",
   "mimetype": "text/x-python",
   "name": "python",
   "nbconvert_exporter": "python",
   "pygments_lexer": "ipython3",
   "version": "3.8.3"
  }
 },
 "nbformat": 4,
 "nbformat_minor": 4
}
